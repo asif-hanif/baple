{
 "cells": [
  {
   "cell_type": "code",
   "execution_count": null,
   "metadata": {},
   "outputs": [],
   "source": [
    "from PIL import Image, ImageDraw, ImageFont\n",
    "import matplotlib.pyplot as plt\n",
    "import os \n",
    "import numpy as np\n",
    "import torch\n",
    "\n",
    "from backdoor import PatchTrigger"
   ]
  },
  {
   "cell_type": "code",
   "execution_count": null,
   "metadata": {},
   "outputs": [],
   "source": [
    "from yacs.config import CfgNode as CN\n",
    "cfg = CN()\n",
    "\n",
    "cfg.INPUT = CN()\n",
    "cfg.INPUT.SIZE = (224, 224)\n",
    "\n",
    "cfg.BACKDOOR = CN()\n",
    "cfg.BACKDOOR.POISON_PERCENTAGE= 5\n",
    "cfg.BACKDOOR.TARGET_CLASS= 0\n",
    "cfg.BACKDOOR.NOISE_EPS= 8\n",
    "cfg.BACKDOOR.PATCH_TYPE = \"text\" # \"text\", \"random-patch\"\n",
    "\n",
    "cfg.BACKDOOR.POSITION= \"center-center\" # \"top-left\", \"top-center\", \"top-right\", \"center-left\", \"center-center\", \"center-right\", \"bottom-left\", \"bottom-center\", \"bottom-right\" \n",
    "cfg.BACKDOOR.TRIGGER_SIZE= 24 \n",
    "cfg.BACKDOOR.TRIGGER_IMG_PATH= \"<PATH>\"\n",
    "\n",
    "    "
   ]
  },
  {
   "cell_type": "code",
   "execution_count": null,
   "metadata": {},
   "outputs": [],
   "source": [
    "image = Image.open('cat.jpeg')\n",
    "image  = torch.tensor(np.array(image)).permute(2,0,1).unsqueeze(0).float()/255.0\n",
    "\n",
    "backdoor_tags = torch.ones(image.shape[0], dtype=torch.long) \n",
    "\n",
    "print(image.shape, image.min(), image.max())\n",
    "\n",
    "plt.imshow(image[0].permute(1,2,0))\n",
    "plt.axis('off')\n",
    "plt.show()"
   ]
  },
  {
   "cell_type": "code",
   "execution_count": null,
   "metadata": {},
   "outputs": [],
   "source": []
  },
  {
   "cell_type": "markdown",
   "metadata": {},
   "source": [
    "## Text Trigger"
   ]
  },
  {
   "cell_type": "code",
   "execution_count": null,
   "metadata": {},
   "outputs": [],
   "source": [
    "positions = [\"top-left\", \"top-center\", \"top-right\", \"center-left\", \"center-center\", \"center-right\", \"bottom-left\", \"bottom-center\", \"bottom-right\"] \n",
    "\n",
    "fig, axes = plt.subplots(3, 3, figsize=(20,20))\n",
    "\n",
    "k=0\n",
    "for i in range(3):\n",
    "    for j in range(3):\n",
    "\n",
    "        image = Image.open('cat.jpeg')\n",
    "        image  = torch.tensor(np.array(image)).permute(2,0,1).unsqueeze(0).float()/255.0\n",
    "        backdoor_tags = torch.ones(image.shape[0], dtype=torch.long) \n",
    "\n",
    "        cfg.BACKDOOR.PATCH_TYPE = \"text\" # \"text\", \"random-patch\"\n",
    "        cfg.BACKDOOR.POSITION= positions[k]\n",
    "        patch_trigger = PatchTrigger(cfg)\n",
    "        image_poisoned = patch_trigger(image, backdoor_tags)\n",
    "        axes[i,j].imshow(image_poisoned[0].permute(1,2,0))\n",
    "        axes[i,j].axis('off')\n",
    "        axes[i,j].set_title(f\"{positions[k].upper()}\")\n",
    "        k+=1"
   ]
  },
  {
   "cell_type": "markdown",
   "metadata": {},
   "source": [
    "## Random Patch Trigger"
   ]
  },
  {
   "cell_type": "code",
   "execution_count": null,
   "metadata": {},
   "outputs": [],
   "source": [
    "positions = [\"top-left\", \"top-center\", \"top-right\", \"center-left\", \"center-center\", \"center-right\", \"bottom-left\", \"bottom-center\", \"bottom-right\"] \n",
    "\n",
    "fig, axes = plt.subplots(3, 3, figsize=(20,20))\n",
    "\n",
    "k=0\n",
    "for i in range(3):\n",
    "    for j in range(3):\n",
    "\n",
    "        image = Image.open('cat.jpeg')\n",
    "        image  = torch.tensor(np.array(image)).permute(2,0,1).unsqueeze(0).float()/255.0\n",
    "        backdoor_tags = torch.ones(image.shape[0], dtype=torch.long) \n",
    "\n",
    "        cfg.BACKDOOR.PATCH_TYPE = \"random-patch\" # \"text\", \"random-patch\"\n",
    "        cfg.BACKDOOR.POSITION= positions[k]\n",
    "        patch_trigger = PatchTrigger(cfg)\n",
    "        image_poisoned = patch_trigger(image, backdoor_tags)\n",
    "        axes[i,j].imshow(image_poisoned[0].permute(1,2,0))\n",
    "        axes[i,j].axis('off')\n",
    "        axes[i,j].set_title(f\"{positions[k].upper()}\")\n",
    "        k+=1"
   ]
  },
  {
   "cell_type": "code",
   "execution_count": null,
   "metadata": {},
   "outputs": [],
   "source": []
  },
  {
   "cell_type": "code",
   "execution_count": null,
   "metadata": {},
   "outputs": [],
   "source": []
  }
 ],
 "metadata": {
  "kernelspec": {
   "display_name": "coop",
   "language": "python",
   "name": "python3"
  },
  "language_info": {
   "codemirror_mode": {
    "name": "ipython",
    "version": 3
   },
   "file_extension": ".py",
   "mimetype": "text/x-python",
   "name": "python",
   "nbconvert_exporter": "python",
   "pygments_lexer": "ipython3",
   "version": "3.8.8"
  }
 },
 "nbformat": 4,
 "nbformat_minor": 2
}
