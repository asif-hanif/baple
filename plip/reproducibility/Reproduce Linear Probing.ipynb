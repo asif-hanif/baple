{
 "cells": [
  {
   "cell_type": "code",
   "execution_count": 2,
   "id": "4d8f75cf",
   "metadata": {},
   "outputs": [],
   "source": [
    "import os\n",
    "import torch\n",
    "import clip\n",
    "import pandas as pd\n",
    "import numpy as np\n",
    "from tqdm import tqdm\n",
    "from PIL import Image\n",
    "\n",
    "from sklearn.linear_model import SGDClassifier\n",
    "from torch.utils.data import Dataset, DataLoader\n",
    "from metrics import eval_metrics\n",
    "from sklearn.preprocessing import LabelEncoder\n",
    "\n"
   ]
  },
  {
   "cell_type": "code",
   "execution_count": 12,
   "id": "e56d9ac9",
   "metadata": {},
   "outputs": [],
   "source": [
    "dataset = \"PanNuke\"\n",
    "data_folder = \"/path/to/data\"\n",
    "cache_dir = \".cache\"\n",
    "model_name = \"plip\"\n",
    "plip_path = \"/path/to/plip\"\n",
    "device=\"cuda\"\n",
    "\n",
    "class CLIPImageDataset(Dataset):\n",
    "    def __init__(self, list_of_images, preprocessing):\n",
    "        self.images = list_of_images\n",
    "        self.preprocessing = preprocessing\n",
    "\n",
    "    def __len__(self):\n",
    "        return len(self.images)\n",
    "\n",
    "    def __getitem__(self, idx):\n",
    "        images = self.preprocessing(Image.open(self.images[idx]))  # preprocess from clip.load\n",
    "        return images\n",
    "    \n",
    "@torch.no_grad()\n",
    "def get_embs(loader, model, model_name):\n",
    "    all_embs = []\n",
    "    for images in tqdm(loader):\n",
    "        images = images.to(device)\n",
    "        if model_name in [\"clip\", \"plip\"]:\n",
    "            all_embs.append(model.encode_image(images).cpu().numpy())\n",
    "        else:\n",
    "            all_embs.append(model(images).squeeze().cpu().numpy())\n",
    "    all_embs = np.concatenate(all_embs, axis=0)\n",
    "    return all_embs\n",
    "\n",
    "\n",
    "def run_classification(train_x, train_y, test_x, test_y, seed=1, alpha=0.1):\n",
    "    classifier = SGDClassifier(random_state=seed, loss=\"log_loss\",\n",
    "                               alpha=alpha, verbose=0,\n",
    "                               penalty=\"l2\", max_iter=10000, class_weight=\"balanced\")\n",
    "    \n",
    "    le = LabelEncoder()\n",
    "\n",
    "    train_y = le.fit_transform(train_y)\n",
    "    test_y = le.transform(test_y)\n",
    "\n",
    "    train_y = np.array(train_y)\n",
    "    test_y = np.array(test_y)\n",
    "\n",
    "    classifier.fit(train_x, train_y)\n",
    "    test_pred = classifier.predict(test_x)\n",
    "    train_pred = classifier.predict(train_x)\n",
    "    test_metrics = eval_metrics(test_y, test_pred, average_method=\"macro\")\n",
    "    return test_metrics"
   ]
  },
  {
   "cell_type": "code",
   "execution_count": null,
   "id": "2ed88421",
   "metadata": {},
   "outputs": [],
   "source": []
  },
  {
   "cell_type": "code",
   "execution_count": 13,
   "id": "7bac69d2",
   "metadata": {},
   "outputs": [],
   "source": [
    "train_dataset_name = dataset + \"_train.csv\"\n",
    "test_dataset_name = dataset + \"_test.csv\"\n",
    "\n",
    "train_dataset = pd.read_csv(os.path.join(data_folder, train_dataset_name))\n",
    "test_dataset = pd.read_csv(os.path.join(data_folder, test_dataset_name))\n",
    "\n",
    "test_y = test_dataset[\"label\"].tolist()\n",
    "train_y = train_dataset[\"label\"].tolist()"
   ]
  },
  {
   "cell_type": "code",
   "execution_count": 14,
   "id": "5f2d857b",
   "metadata": {},
   "outputs": [
    {
     "data": {
      "text/plain": [
       "<All keys matched successfully>"
      ]
     },
     "execution_count": 14,
     "metadata": {},
     "output_type": "execute_result"
    }
   ],
   "source": [
    "model, preprocess = clip.load(\"ViT-B/32\", device=device, download_root=cache_dir)\n",
    "model.load_state_dict(torch.load(plip_path))"
   ]
  },
  {
   "cell_type": "code",
   "execution_count": 15,
   "id": "efb1786b",
   "metadata": {},
   "outputs": [],
   "source": [
    "model = model.eval()"
   ]
  },
  {
   "cell_type": "code",
   "execution_count": 16,
   "id": "aabf4aca",
   "metadata": {},
   "outputs": [],
   "source": [
    "def run_study(model_name, cache_dir=cache_dir):\n",
    "    if model_name == \"plip\":\n",
    "        model, preprocess = clip.load(\"ViT-B/32\", device=device, download_root=cache_dir)\n",
    "        model.load_state_dict(torch.load(plip_path))\n",
    "    elif model_name == \"clip\":\n",
    "        model, preprocess = clip.load(\"ViT-B/32\", device=device, download_root=cache_dir)\n",
    "    elif model_name == \"mudipath\": \n",
    "        from torchvision import transforms\n",
    "        from embedders.mudipath import build_densenet\n",
    "        \n",
    "        model = build_densenet(download_dir=cache_dir,\n",
    "                                      pretrained=\"mtdp\")\n",
    "        model.num_feats = model.n_features()\n",
    "        model.forward_type = \"image\"\n",
    "        model = model.to(device)\n",
    "        model.eval()\n",
    "        preprocess = transforms.Compose([\n",
    "            transforms.Resize(224),\n",
    "            transforms.CenterCrop(224),\n",
    "            transforms.ToTensor(),\n",
    "            transforms.Normalize(mean=[0.485, 0.456, 0.406], std=[0.229, 0.224, 0.225])  # ImageNet stats\n",
    "        ])\n",
    "    \n",
    "    train_loader = DataLoader(CLIPImageDataset(train_dataset[\"image\"].tolist(), preprocess), batch_size=32)\n",
    "    test_loader = DataLoader(CLIPImageDataset(test_dataset[\"image\"].tolist(), preprocess), batch_size=32)\n",
    "\n",
    "    train_embs = get_embs(train_loader, model, model_name)\n",
    "    test_embs = get_embs(test_loader, model, model_name)\n",
    "    \n",
    "\n",
    "    all_records = []\n",
    "    for alpha in [1.0, 0.1, 0.01, 0.001]:\n",
    "        metrics = run_classification(train_embs, train_y, test_embs, test_y, alpha=alpha)\n",
    "        metrics[\"alpha\"] = alpha\n",
    "        metrics[\"model_name\"] = model_name\n",
    "        all_records.append(metrics)\n",
    "    return all_records"
   ]
  },
  {
   "cell_type": "code",
   "execution_count": 17,
   "id": "e331473e",
   "metadata": {},
   "outputs": [
    {
     "name": "stderr",
     "output_type": "stream",
     "text": [
      "100%|██████████| 136/136 [00:47<00:00,  2.86it/s]\n",
      "100%|██████████| 59/59 [00:20<00:00,  2.85it/s]\n",
      "100%|██████████| 136/136 [00:38<00:00,  3.49it/s]\n",
      "100%|██████████| 59/59 [00:17<00:00,  3.37it/s]\n",
      "100%|██████████| 136/136 [00:39<00:00,  3.48it/s]\n",
      "100%|██████████| 59/59 [00:17<00:00,  3.46it/s]\n"
     ]
    }
   ],
   "source": [
    "all_records = []\n",
    "for model_name in [\"mudipath\", \"plip\", \"clip\"]:\n",
    "    all_records.extend(run_study(model_name))"
   ]
  },
  {
   "cell_type": "code",
   "execution_count": null,
   "id": "fccfc443",
   "metadata": {},
   "outputs": [],
   "source": []
  },
  {
   "cell_type": "code",
   "execution_count": 18,
   "id": "80436432",
   "metadata": {},
   "outputs": [],
   "source": [
    "result_df = pd.DataFrame(all_records)"
   ]
  },
  {
   "cell_type": "code",
   "execution_count": 19,
   "id": "63d4ca50",
   "metadata": {},
   "outputs": [
    {
     "data": {
      "text/plain": [
       "<AxesSubplot:xlabel='model_name', ylabel='F1'>"
      ]
     },
     "execution_count": 19,
     "metadata": {},
     "output_type": "execute_result"
    },
    {
     "data": {
      "image/png": "[encoded data removed]",
      "text/plain": [
       "<Figure size 432x288 with 1 Axes>"
      ]
     },
     "metadata": {
      "needs_background": "light"
     },
     "output_type": "display_data"
    }
   ],
   "source": [
    "# Plot the metrics you care about\n",
    "import seaborn as sns\n",
    "sns.lineplot(x=\"model_name\", y=\"F1\", data=result_df, estimator=\"max\", ci=None)"
   ]
  },
  {
   "cell_type": "code",
   "execution_count": 46,
   "id": "914757a5",
   "metadata": {},
   "outputs": [],
   "source": []
  },
  {
   "cell_type": "code",
   "execution_count": null,
   "id": "df649cab",
   "metadata": {},
   "outputs": [],
   "source": []
  }
 ],
 "metadata": {
  "kernelspec": {
   "display_name": "Python 3 (ipykernel)",
   "language": "python",
   "name": "python3"
  },
  "language_info": {
   "codemirror_mode": {
    "name": "ipython",
    "version": 3
   },
   "file_extension": ".py",
   "mimetype": "text/x-python",
   "name": "python",
   "nbconvert_exporter": "python",
   "pygments_lexer": "ipython3",
   "version": "3.9.0"
  }
 },
 "nbformat": 4,
 "nbformat_minor": 5
}
